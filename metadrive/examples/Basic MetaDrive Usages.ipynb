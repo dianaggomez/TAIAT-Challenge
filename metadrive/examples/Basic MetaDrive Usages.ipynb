{
 "cells": [
  {
   "cell_type": "markdown",
   "metadata": {
    "id": "J1w-zrxAUr4l"
   },
   "source": [
    "# Quick Start Tutorial of the basic functionality of MetaDrive\n",
    "\n",
    "Welcome to try out MetaDrive!\n",
    "\n",
    "MetaDrive v0.1.5 supports two running modes:\n",
    "\n",
    "1. **With rendering functionality**: MetaDrive can easily install and run in personal computer, but may need special treatments in headless machine and cloud servers.\n",
    "2. **Without rendering functionality**: MetaDrive can easily install and run in any machine. In this Colab notebook, we demonstrate MetaDrive in this mode.\n",
    "\n",
    "In this tutorial, we will navigate you through the installation and some basic functionality of MetaDrive!"
   ]
  },
  {
   "cell_type": "markdown",
   "metadata": {
    "id": "2efvTXdHVptN"
   },
   "source": [
    "## Installation\n",
    "\n",
    "You can install MetaDrive easily."
   ]
  },
  {
   "cell_type": "code",
   "execution_count": null,
   "metadata": {
    "colab": {
     "base_uri": "https://localhost:8080/"
    },
    "id": "65J2iQKpUQ1B",
    "outputId": "6548fd49-0403-467a-d83d-4c36b6288aa0",
    "scrolled": true
   },
   "outputs": [],
   "source": [
    "#@title Collect the MetaDrive\n",
    "\n",
    "%pip install metadrive==0.1.5"
   ]
  },
  {
   "cell_type": "markdown",
   "metadata": {},
   "source": [
    "## Basic Functionality"
   ]
  },
  {
   "cell_type": "code",
   "execution_count": null,
   "metadata": {
    "colab": {
     "base_uri": "https://localhost:8080/"
    },
    "id": "YOKs4FbUU5BR",
    "outputId": "326fcfe4-3a5a-455a-cb9a-6697c9740d17"
   },
   "outputs": [],
   "source": [
    "#@title A minimalist example of using MetaDrive with LiDAR observation\n",
    "\n",
    "from metadrive import MetaDriveEnv\n",
    "import gym\n",
    "\n",
    "env = gym.make(\"MetaDrive-v0\")\n",
    "# env = MetaDriveEnv(dict(environment_num=100))  # Or you can also choose to create env from class.\n",
    "\n",
    "print(\"\\nThe action space: {}\".format(env.action_space))\n",
    "print(\"\\nThe observation space: {}\\n\".format(env.observation_space))\n",
    "print(\"Starting the environment ...\\n\")\n",
    "\n",
    "ep_reward = 0.0\n",
    "obs = env.reset()\n",
    "for i in range(1000):\n",
    "    obs, reward, done, info = env.step(env.action_space.sample())\n",
    "    ep_reward += reward\n",
    "    if done:\n",
    "        print(\"\\nThe episode reward: \", ep_reward)\n",
    "        break\n",
    "\n",
    "print(\"\\nThe observation shape: {}.\".format(obs.shape))\n",
    "print(\"\\nThe returned reward: {}.\".format(reward))\n",
    "print(\"\\nThe returned information: {}.\".format(info))\n",
    "\n",
    "env.close()\n",
    "print(\"\\nMetaDrive successfully run!\")\n",
    "\n"
   ]
  },
  {
   "cell_type": "code",
   "execution_count": null,
   "metadata": {},
   "outputs": [],
   "source": [
    "# @title You can also using an expert to drive\n",
    "\n",
    "from metadrive import MetaDriveEnv\n",
    "from metadrive.examples import expert\n",
    "\n",
    "env = MetaDriveEnv()  # You can also choose to create env from class.\n",
    "\n",
    "print(\"\\nThe action space: {}\".format(env.action_space))\n",
    "print(\"\\nThe observation space: {}\\n\".format(env.observation_space))\n",
    "print(\"Starting the environment ...\\n\")\n",
    "\n",
    "ep_reward = 0.0\n",
    "obs = env.reset()\n",
    "for i in range(1000):\n",
    "    obs, reward, done, info = env.step(expert(obs))\n",
    "    ep_reward += reward\n",
    "    if done:\n",
    "        print(\"\\nEpisode reward: \", ep_reward)\n",
    "        break\n",
    "\n",
    "print(\"\\nThe returned reward: {}.\".format(reward))\n",
    "print(\"\\nThe returned information: {}\".format(info))\n",
    "\n",
    "env.close()\n",
    "print(\"\\nMetaDrive successfully run!\")\n"
   ]
  },
  {
   "cell_type": "markdown",
   "metadata": {},
   "source": [
    "## Map Generation"
   ]
  },
  {
   "cell_type": "code",
   "execution_count": null,
   "metadata": {},
   "outputs": [],
   "source": [
    "# @title Draw the generated maps in top-down view\n",
    "\n",
    "import random\n",
    "\n",
    "import matplotlib.pyplot as plt\n",
    "\n",
    "from metadrive import MetaDriveEnv\n",
    "\n",
    "env = MetaDriveEnv(config=dict(\n",
    "    environment_num=100,\n",
    "    map=7,\n",
    "    start_seed=random.randint(0, 1000)\n",
    "))\n",
    "\n",
    "fig, axs = plt.subplots(4, 4, figsize=(10, 10), dpi=200)\n",
    "for i in range(4):\n",
    "    for j in range(4):\n",
    "        env.reset()\n",
    "        m = env.get_map()\n",
    "        ax = axs[i][j]\n",
    "        ax.imshow(m, cmap=\"bone\")\n",
    "        ax.set_xticks([])\n",
    "        ax.set_yticks([])\n",
    "fig.suptitle(\"Bird's-eye view of generated maps\")\n",
    "plt.show()\n",
    "\n",
    "env.close()\n"
   ]
  },
  {
   "cell_type": "code",
   "execution_count": null,
   "metadata": {},
   "outputs": [],
   "source": [
    "# @title Draw the generated maps in top-down view with fixed block sequence\n",
    "# @markdown You can also specify the road block sequence then randomize the block parameters.\n",
    "# @markdown Please refer to [documentation](https://metadrive-simulator.readthedocs.io/en/latest/env_config.html#map-config) for the meaning of the map string.\n",
    "\n",
    "import random\n",
    "\n",
    "import matplotlib.pyplot as plt\n",
    "\n",
    "from metadrive import MetaDriveEnv\n",
    "\n",
    "env = MetaDriveEnv(config=dict(\n",
    "    environment_num=100,\n",
    "    map=\"CrTRXOS\",\n",
    "    start_seed=random.randint(0, 1000)\n",
    "))\n",
    "\n",
    "fig, axs = plt.subplots(4, 4, figsize=(10, 10), dpi=200)\n",
    "for i in range(4):\n",
    "    for j in range(4):\n",
    "        env.reset()\n",
    "        m = env.get_map()\n",
    "        ax = axs[i][j]\n",
    "        ax.imshow(m, cmap=\"bone\")\n",
    "        ax.set_xticks([])\n",
    "        ax.set_yticks([])\n",
    "fig.suptitle(\"Bird's-eye view of generated maps\")\n",
    "plt.show()\n",
    "\n",
    "env.close()\n"
   ]
  },
  {
   "cell_type": "code",
   "execution_count": null,
   "metadata": {},
   "outputs": [],
   "source": []
  }
 ],
 "metadata": {
  "colab": {
   "collapsed_sections": [],
   "name": "Untitled1.ipynb",
   "provenance": []
  },
  "kernelspec": {
   "display_name": "Python 3 (ipykernel)",
   "language": "python",
   "name": "python3"
  },
  "language_info": {
   "codemirror_mode": {
    "name": "ipython",
    "version": 3
   },
   "file_extension": ".py",
   "mimetype": "text/x-python",
   "name": "python",
   "nbconvert_exporter": "python",
   "pygments_lexer": "ipython3",
   "version": "3.7.10"
  }
 },
 "nbformat": 4,
 "nbformat_minor": 1
}
